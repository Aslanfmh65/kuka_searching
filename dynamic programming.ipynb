{
 "cells": [
  {
   "cell_type": "code",
   "execution_count": 196,
   "metadata": {},
   "outputs": [],
   "source": [
    "grid = [[0, 0, 1, 0, 0, 0],\n",
    "        [0, 0, 1, 0, 0, 0],\n",
    "        [0, 0, 1, 0, 0, 0],\n",
    "        [0, 0, 0, 0, 1, 0],\n",
    "        [0, 0, 1, 1, 1, 0],\n",
    "        [0, 0, 0, 0, 1, 0]]\n",
    "goal = [len(grid)-1, len(grid[0])-1]\n",
    "init = [0, 0]"
   ]
  },
  {
   "cell_type": "code",
   "execution_count": 197,
   "metadata": {},
   "outputs": [],
   "source": [
    "cost = 1\n",
    "delta = [[-1, 0 ], # go up\n",
    "         [ 0, -1], # go left\n",
    "         [ 1, 0 ], # go down\n",
    "         [ 0, 1 ]] # go right\n",
    "\n",
    "delta_name = ['^', '<', 'v', '>']"
   ]
  },
  {
   "cell_type": "code",
   "execution_count": 198,
   "metadata": {},
   "outputs": [],
   "source": [
    "closed = [['X' for row in range(len(grid[0]))] for col in range(len(grid))]\n",
    "action = [[' ' for row in range(len(grid[0]))] for col in range(len(grid))]\n",
    "\n",
    "x = goal[0]\n",
    "y = goal[1]\n",
    "g = 0\n",
    "closed[x][y] = 0\n",
    "open_ = [[g, x, y]]"
   ]
  },
  {
   "cell_type": "code",
   "execution_count": 199,
   "metadata": {},
   "outputs": [],
   "source": [
    "found = False\n",
    "resign = False"
   ]
  },
  {
   "cell_type": "code",
   "execution_count": 200,
   "metadata": {},
   "outputs": [],
   "source": [
    "while not found and not resign:\n",
    "    if len(open_) == 0:\n",
    "        resign = True\n",
    "    else:\n",
    "        open_.sort()\n",
    "        open_.reverse()\n",
    "        next_ = open_.pop()\n",
    "        \n",
    "        g = next_[0]\n",
    "        x = next_[1]\n",
    "        y = next_[2]\n",
    "        \n",
    "        for i in range(len(delta)):\n",
    "            x2 = x + delta[i][0]\n",
    "            y2 = y + delta[i][1]\n",
    "                \n",
    "            if (x2 >= 0) and (x2 < len(grid)) and (y2 >= 0) and (y2 < len(grid[0])):\n",
    "                if (closed[x2][y2] == 'X') and (grid[x2][y2] == 0):\n",
    "                    g2 = g + cost\n",
    "                    open_.append([g2, x2, y2])\n",
    "                    closed[x2][y2] = g2\n",
    "                    if i == 0 or i == 1:\n",
    "                        i += 2\n",
    "                    else:\n",
    "                        i -= 2\n",
    "                    action[x2][y2] = i\n",
    "                        "
   ]
  },
  {
   "cell_type": "code",
   "execution_count": 201,
   "metadata": {},
   "outputs": [],
   "source": [
    "policy = [[' ' for row in range(len(grid[0]))] for col in range(len(grid))]\n",
    "for i in range(len(action)):\n",
    "    for ii in range(len(action[0])):\n",
    "        move = action[i][ii]\n",
    "        if move != ' ':\n",
    "            policy[i][ii] = delta_name[move]"
   ]
  },
  {
   "cell_type": "code",
   "execution_count": 202,
   "metadata": {},
   "outputs": [],
   "source": [
    "# policy[init[0]][init[1]] = 'S'\n",
    "policy[goal[0]][goal[1]] = 'E'"
   ]
  },
  {
   "cell_type": "code",
   "execution_count": 203,
   "metadata": {},
   "outputs": [
    {
     "data": {
      "text/plain": [
       "[['>', 'v', ' ', '>', '>', 'v'],\n",
       " ['>', 'v', ' ', '>', '>', 'v'],\n",
       " ['>', 'v', ' ', '>', '>', 'v'],\n",
       " ['>', '>', '>', '^', ' ', 'v'],\n",
       " ['^', '^', ' ', ' ', ' ', 'v'],\n",
       " ['^', '^', '<', '<', ' ', 'E']]"
      ]
     },
     "execution_count": 203,
     "metadata": {},
     "output_type": "execute_result"
    }
   ],
   "source": [
    "policy"
   ]
  },
  {
   "cell_type": "code",
   "execution_count": null,
   "metadata": {},
   "outputs": [],
   "source": []
  }
 ],
 "metadata": {
  "kernelspec": {
   "display_name": "Python 3",
   "language": "python",
   "name": "python3"
  },
  "language_info": {
   "codemirror_mode": {
    "name": "ipython",
    "version": 3
   },
   "file_extension": ".py",
   "mimetype": "text/x-python",
   "name": "python",
   "nbconvert_exporter": "python",
   "pygments_lexer": "ipython3",
   "version": "3.6.4"
  }
 },
 "nbformat": 4,
 "nbformat_minor": 2
}
