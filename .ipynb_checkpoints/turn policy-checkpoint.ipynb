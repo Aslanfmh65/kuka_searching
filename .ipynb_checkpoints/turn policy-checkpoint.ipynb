{
 "cells": [
  {
   "cell_type": "code",
   "execution_count": 1,
   "metadata": {},
   "outputs": [],
   "source": [
    "import numpy as np\n",
    "import random"
   ]
  },
  {
   "cell_type": "code",
   "execution_count": 2,
   "metadata": {},
   "outputs": [],
   "source": [
    "forward = [[-1,  0], # go up\n",
    "           [ 0, -1], # go left\n",
    "           [ 1,  0], # go down\n",
    "           [ 0,  1]] # go right\n",
    "forward_name = ['up', 'left', 'down', 'right']"
   ]
  },
  {
   "cell_type": "code",
   "execution_count": 3,
   "metadata": {},
   "outputs": [],
   "source": [
    "# action has 3 values: right turn, no turn, left turn\n",
    "action = [-1, 0, 1]\n",
    "action_name = ['R', '#', 'L']"
   ]
  },
  {
   "cell_type": "code",
   "execution_count": 4,
   "metadata": {},
   "outputs": [],
   "source": [
    "grid = [[1, 1, 1, 1, 1, 1, 1, 1, 1, 1, 1, 1, 1, 1, 1, 1],\n",
    "        [1, 0, 0, 0, 0, 0, 0, 0, 0, 0, 0, 0, 0, 0, 0, 1],\n",
    "        [1, 0, 1, 1, 1, 1, 1, 1, 1, 1, 1, 1, 0, 1, 0, 1],\n",
    "        [1, 0, 0, 0, 0, 0, 0, 0, 0, 1, 0, 0, 0, 1, 0, 1],\n",
    "        [1, 0, 1, 0, 1, 1, 1, 0, 0, 0, 0, 1, 0, 1, 0, 1],\n",
    "        [1, 0, 1, 0, 0, 0, 0, 1, 0, 1, 0, 0, 0, 1, 0, 1],\n",
    "        [1, 0, 1, 0, 0, 0, 0, 0, 0, 0, 0, 1, 0, 0, 0, 1],\n",
    "        [1, 0, 0, 0, 1, 1, 1, 0, 1, 1, 0, 1, 0, 1, 0, 1],\n",
    "        [1, 0, 1, 0, 0, 0, 0, 0, 0, 0, 0, 0, 0, 0, 0, 1],\n",
    "        [1, 0, 1, 0, 1, 1, 0, 1, 1, 1, 1, 1, 1, 1, 0, 1],\n",
    "        [1, 0, 0, 0, 0, 0, 0, 0, 0, 0, 0, 0, 0, 0, 0, 1],\n",
    "        [1, 1, 1, 1, 1, 1, 1, 1, 1, 1, 1, 1, 1, 1, 1, 1]]\n",
    "\n",
    "all_zero = []\n",
    "all_one = []\n",
    "\n",
    "for x in range(len(grid)):\n",
    "    for y in range(len(grid[0])):\n",
    "        if grid[x][y] == 1:\n",
    "            all_one.append([x, y])\n",
    "        else:\n",
    "            all_zero.append([x, y])\n",
    "            \n",
    "init = random.choice(all_zero)\n",
    "goal = random.choice(all_zero)\n",
    "init.append(0)\n",
    "init = [10, 14, 0]\n",
    "goal = [8, 1]"
   ]
  },
  {
   "cell_type": "code",
   "execution_count": 5,
   "metadata": {},
   "outputs": [],
   "source": [
    "# grid = [[1, 1, 1, 0, 0, 0],\n",
    "#         [1, 1, 1, 0, 1, 0],\n",
    "#         [0, 0, 0, 0, 0, 0],\n",
    "#         [1, 1, 1, 0, 1, 1],\n",
    "#         [1, 1, 1, 0, 1, 1]]\n",
    "\n",
    "\n",
    "\n",
    "# init = [10, 8, 0] # given in the form [row,col,direction]\n",
    "#                  # direction = 0: up\n",
    "#                  #             1: left\n",
    "#                  #             2: down\n",
    "#                  #             3: right\n",
    "                \n",
    "\n",
    "\n",
    "cost = [5, 1, 5] # cost has 3 values, corresponding to making \n",
    "                  # a right turn, no turn, and a left turn"
   ]
  },
  {
   "cell_type": "code",
   "execution_count": 6,
   "metadata": {},
   "outputs": [],
   "source": [
    "value = [[[999 for row in range(len(grid[0]))] for col in range(len(grid))],\n",
    "         [[999 for row in range(len(grid[0]))] for col in range(len(grid))],\n",
    "         [[999 for row in range(len(grid[0]))] for col in range(len(grid))],\n",
    "         [[999 for row in range(len(grid[0]))] for col in range(len(grid))]]"
   ]
  },
  {
   "cell_type": "code",
   "execution_count": 7,
   "metadata": {},
   "outputs": [],
   "source": [
    "policy = [[[' ' for row in range(len(grid[0]))] for col in range(len(grid))],\n",
    "         [[' ' for row in range(len(grid[0]))] for col in range(len(grid))],\n",
    "         [[' ' for row in range(len(grid[0]))] for col in range(len(grid))],\n",
    "         [[' ' for row in range(len(grid[0]))] for col in range(len(grid))]]"
   ]
  },
  {
   "cell_type": "code",
   "execution_count": 8,
   "metadata": {},
   "outputs": [],
   "source": [
    "policy2D = [[' ' for row in range(len(grid[0]))] for col in range(len(grid))]"
   ]
  },
  {
   "cell_type": "code",
   "execution_count": 9,
   "metadata": {},
   "outputs": [],
   "source": [
    "change = True\n",
    "while change:\n",
    "    change = False\n",
    "    # go through all grid cells and calculate values\n",
    "    for x in range(len(grid)):\n",
    "        for y in range(len(grid[0])):\n",
    "            for orientation in range(4):  # orientation = 0, 1, 2, 3\n",
    "                if goal[0] == x and goal[1] == y:  # if you find the goal location\n",
    "                    if value[orientation][x][y] > 0:\n",
    "                        change = True\n",
    "                        value[orientation][x][y] = 0\n",
    "                        policy[orientation][x][y] = '*'  # mark the end location\n",
    "                elif grid[x][y] == 0:  # if grid cell is navigable \n",
    "                    # calculate the three ways to propagate value\n",
    "                    for i in range(3):  # i = 0, 1, 2, loop all three actions\n",
    "                        o2 = (orientation + action[i]) % 4  \n",
    "                        # orientaton + (right, straight, left) % 4 = 0, 1, 2, 3\n",
    "                        # -1 % 4 = 3, right\n",
    "                        # 0 % 4 = 0, up\n",
    "                        # 1 % 4 = 1, left\n",
    "                        # 2 % 4 = 2, down\n",
    "                        # 3 % 4 = 3, right\n",
    "                        x2 = x + forward[o2][0]\n",
    "                        y2 = y + forward[o2][1]\n",
    "                        \n",
    "                        if x2 >= 0 and x2 < len(grid) and y2 >= 0 and y2 < len(grid[0]) and grid[x2][y2] == 0:\n",
    "                            v2 = value[o2][x2][y2] + cost[i]\n",
    "                            if v2 < value[orientation][x][y]:\n",
    "                                value[orientation][x][y] = v2\n",
    "                                policy[orientation][x][y] = action_name[i]\n",
    "                                change = True"
   ]
  },
  {
   "cell_type": "code",
   "execution_count": 10,
   "metadata": {},
   "outputs": [],
   "source": [
    "x = init[0]\n",
    "y = init[1]\n",
    "orientation = init[2]"
   ]
  },
  {
   "cell_type": "code",
   "execution_count": 11,
   "metadata": {},
   "outputs": [],
   "source": [
    "policy2D[x][y] = policy[orientation][x][y]\n",
    "path = [[init[0], init[1], 0]]\n",
    "\n",
    "while policy[orientation][x][y] != '*':\n",
    "    if policy[orientation][x][y] == '#':\n",
    "        o2 = orientation\n",
    "    elif policy[orientation][x][y] == 'R':\n",
    "        o2 = (orientation - 1) % 4\n",
    "    elif policy[orientation][x][y] == 'L':\n",
    "        o2 = (orientation + 1) % 4\n",
    "    x = x + forward[o2][0]\n",
    "    y = y + forward[o2][1]\n",
    "    orientation = o2\n",
    "    policy2D[x][y] = policy[orientation][x][y]\n",
    "    path.append([x, y, orientation])"
   ]
  },
  {
   "cell_type": "code",
   "execution_count": 12,
   "metadata": {},
   "outputs": [
    {
     "name": "stdout",
     "output_type": "stream",
     "text": [
      "['X', 'X', 'X', 'X', 'X', 'X', 'X', 'X', 'X', 'X', 'X', 'X', 'X', 'X', 'X', 'X']\n",
      "['X', ' ', ' ', ' ', ' ', ' ', ' ', ' ', ' ', ' ', ' ', ' ', ' ', ' ', ' ', 'X']\n",
      "['X', ' ', 'X', 'X', 'X', 'X', 'X', 'X', 'X', 'X', 'X', 'X', ' ', 'X', ' ', 'X']\n",
      "['X', ' ', ' ', ' ', ' ', ' ', ' ', ' ', ' ', 'X', ' ', ' ', ' ', 'X', ' ', 'X']\n",
      "['X', ' ', 'X', ' ', 'X', 'X', 'X', ' ', ' ', ' ', ' ', 'X', ' ', 'X', ' ', 'X']\n",
      "['X', ' ', 'X', ' ', ' ', ' ', ' ', 'X', ' ', 'X', ' ', ' ', ' ', 'X', ' ', 'X']\n",
      "['X', ' ', 'X', ' ', ' ', ' ', ' ', ' ', ' ', ' ', ' ', 'X', ' ', ' ', ' ', 'X']\n",
      "['X', ' ', ' ', ' ', 'X', 'X', 'X', ' ', 'X', 'X', ' ', 'X', ' ', 'X', ' ', 'X']\n",
      "['X', 'E', 'X', ' ', ' ', ' ', ' ', ' ', ' ', ' ', ' ', ' ', ' ', ' ', ' ', 'X']\n",
      "['X', '#', 'X', ' ', 'X', 'X', ' ', 'X', 'X', 'X', 'X', 'X', 'X', 'X', ' ', 'X']\n",
      "['X', 'R', '#', '#', '#', '#', '#', '#', '#', '#', '#', '#', '#', '#', 'S', 'X']\n",
      "['X', 'X', 'X', 'X', 'X', 'X', 'X', 'X', 'X', 'X', 'X', 'X', 'X', 'X', 'X', 'X']\n"
     ]
    }
   ],
   "source": [
    "policy2D[init[0]][init[1]] = 'S'\n",
    "policy2D[goal[0]][goal[1]] = 'E'\n",
    "for x in range(len(grid)):\n",
    "    for y in range(len(grid[0])):\n",
    "        if grid[x][y] == 1:\n",
    "            policy2D[x][y] = 'X'\n",
    "for i in range(len(policy2D)):\n",
    "    print(policy2D[i])"
   ]
  },
  {
   "cell_type": "code",
   "execution_count": 92,
   "metadata": {},
   "outputs": [
    {
     "name": "stdout",
     "output_type": "stream",
     "text": [
      "[8, 1, 0]\n",
      "[7, 1, 0]\n",
      "[7, 2, 3]\n",
      "[7, 3, 3]\n",
      "[8, 3, 2]\n",
      "[9, 3, 2]\n",
      "[10, 3, 2]\n",
      "[10, 4, 3]\n",
      "[10, 5, 3]\n",
      "[10, 6, 3]\n",
      "[10, 7, 3]\n",
      "[10, 8, 3]\n",
      "[10, 9, 3]\n",
      "[10, 10, 3]\n",
      "[10, 11, 3]\n",
      "[10, 12, 3]\n",
      "[10, 13, 3]\n"
     ]
    }
   ],
   "source": [
    "for pose in path:\n",
    "    print(pose)"
   ]
  },
  {
   "cell_type": "code",
   "execution_count": null,
   "metadata": {},
   "outputs": [],
   "source": []
  }
 ],
 "metadata": {
  "kernelspec": {
   "display_name": "Python 3",
   "language": "python",
   "name": "python3"
  },
  "language_info": {
   "codemirror_mode": {
    "name": "ipython",
    "version": 3
   },
   "file_extension": ".py",
   "mimetype": "text/x-python",
   "name": "python",
   "nbconvert_exporter": "python",
   "pygments_lexer": "ipython3",
   "version": "3.6.4"
  }
 },
 "nbformat": 4,
 "nbformat_minor": 2
}
