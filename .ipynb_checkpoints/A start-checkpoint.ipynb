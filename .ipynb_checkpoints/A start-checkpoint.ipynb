{
 "cells": [
  {
   "cell_type": "code",
   "execution_count": 1,
   "metadata": {},
   "outputs": [],
   "source": [
    "grid = [[0, 1, 0, 0, 0, 0],\n",
    "        [0, 0, 0, 0, 0, 0],\n",
    "        [0, 1, 0, 0, 0, 0],\n",
    "        [0, 1, 0, 0, 0, 0],\n",
    "        [0, 0, 0, 1, 1, 0]]"
   ]
  },
  {
   "cell_type": "code",
   "execution_count": 2,
   "metadata": {},
   "outputs": [],
   "source": [
    "heuristic = [[9, 8, 7, 6, 5, 4],\n",
    "             [8, 7, 6, 5, 4, 3],\n",
    "             [7, 6, 5, 4, 3, 2],\n",
    "             [6, 5, 4, 3, 2, 1],\n",
    "             [5, 4, 3, 2, 1, 0]]"
   ]
  },
  {
   "cell_type": "code",
   "execution_count": 3,
   "metadata": {},
   "outputs": [],
   "source": [
    "init = [0, 0]\n",
    "goal = [len(grid)-1, len(grid[0])-1]  #[4,5]\n",
    "cost = 1\n",
    "\n",
    "delta = [[-1, 0 ], # go up\n",
    "         [ 0, -1], # go left\n",
    "         [ 1, 0 ], # go down\n",
    "         [ 0, 1 ]] # go right\n",
    "\n",
    "delta_name = ['^', '<', 'v', '>']"
   ]
  },
  {
   "cell_type": "code",
   "execution_count": 4,
   "metadata": {},
   "outputs": [],
   "source": [
    "closed = [[0 for row in range(len(grid[0]))] for col in range(len(grid))]\n",
    "closed[init[0]][init[1]] = 1\n",
    "expand = [[-1 for row in range(len(grid[0]))] for col in range(len(grid))]\n",
    "action = [[-1 for row in range(len(grid[0]))] for col in range(len(grid))]\n",
    "action_test = []"
   ]
  },
  {
   "cell_type": "code",
   "execution_count": 5,
   "metadata": {},
   "outputs": [],
   "source": [
    "x = init[0]  # x = 0\n",
    "y = init[1]  # y = 0\n",
    "g = 0\n",
    "open_ = [[g, x, y]]"
   ]
  },
  {
   "cell_type": "code",
   "execution_count": 6,
   "metadata": {},
   "outputs": [],
   "source": [
    "found = False\n",
    "resign = False"
   ]
  },
  {
   "cell_type": "code",
   "execution_count": 7,
   "metadata": {},
   "outputs": [
    {
     "name": "stdout",
     "output_type": "stream",
     "text": [
      "{2: [1, 1, 0]}\n",
      "{2: [2, 2, 0], 3: [2, 1, 1]}\n",
      "{2: [3, 3, 0]}\n",
      "{2: [4, 4, 0]}\n",
      "{3: [5, 4, 1]}\n",
      "{3: [6, 4, 2]}\n",
      "{0: [7, 3, 2]}\n",
      "{0: [8, 2, 2], 3: [8, 3, 3]}\n",
      "{0: [9, 2, 3], 3: [9, 3, 4]}\n",
      "{0: [10, 2, 4], 3: [10, 3, 5]}\n",
      "{0: [11, 2, 5], 2: [11, 4, 5]}\n"
     ]
    }
   ],
   "source": [
    "while not found and not resign:\n",
    "    if len(open_) == 0:\n",
    "        resign = True\n",
    "    else:\n",
    "        open_.sort()\n",
    "        open_.reverse()\n",
    "        next_ = open_.pop()\n",
    "        \n",
    "        g = next_[0]\n",
    "        x = next_[1]\n",
    "        y = next_[2]\n",
    "        \n",
    "        if x == goal[0] and y == goal[1]:\n",
    "            found = True\n",
    "        else:\n",
    "            f = {}\n",
    "            open_select = {}\n",
    "            for i in range(len(delta)):\n",
    "                x2 = x + delta[i][0]\n",
    "                y2 = y + delta[i][1]\n",
    "                \n",
    "                if (x2 >= 0) and (x2 < len(grid)) and (y2 >= 0) and (y2 < len(grid[0])):\n",
    "                    \n",
    "                    if closed[x2][y2] == 0 and grid[x2][y2] == 0:\n",
    "                        g2 = g + cost\n",
    "                        f[i] = g2 + heuristic[x2][y2]\n",
    "                        open_select[i] = [g2, x2, y2]\n",
    "            \n",
    "            print(open_select)\n",
    "            ii = min(f, key=f.get)\n",
    "            open_.append(open_select[ii])\n",
    "            x2 = open_select[ii][1]\n",
    "            y2 = open_select[ii][2]\n",
    "            closed[x2][y2] = 1\n",
    "            action[x2][y2] = ii"
   ]
  },
  {
   "cell_type": "code",
   "execution_count": 8,
   "metadata": {},
   "outputs": [
    {
     "name": "stdout",
     "output_type": "stream",
     "text": [
      "[[-1, -1, -1, -1, -1, -1], [2, -1, -1, -1, -1, -1], [2, -1, -1, -1, -1, -1], [2, -1, 0, 3, 3, 3], [2, 3, 3, -1, -1, 2]]\n"
     ]
    }
   ],
   "source": [
    "print(action)"
   ]
  },
  {
   "cell_type": "code",
   "execution_count": 9,
   "metadata": {},
   "outputs": [],
   "source": [
    "policy = [[' ' for row in range(len(grid[0]))] for col in range(len(grid))]\n",
    "x = goal[0]\n",
    "y = goal[1]\n",
    "\n",
    "policy[0][0] = 'S'\n",
    "policy[x][y] = 'E'"
   ]
  },
  {
   "cell_type": "code",
   "execution_count": 10,
   "metadata": {},
   "outputs": [],
   "source": [
    "for i in range(len(grid)):\n",
    "    for ii in range(len(grid[0])):\n",
    "        move = action[i][ii]\n",
    "        if move != -1:\n",
    "            policy[i][ii] = delta_name[move]"
   ]
  },
  {
   "cell_type": "code",
   "execution_count": 11,
   "metadata": {},
   "outputs": [
    {
     "name": "stdout",
     "output_type": "stream",
     "text": [
      "['S', ' ', ' ', ' ', ' ', ' ']\n",
      "['v', ' ', ' ', ' ', ' ', ' ']\n",
      "['v', ' ', ' ', ' ', ' ', ' ']\n",
      "['v', ' ', '^', '>', '>', '>']\n",
      "['v', '>', '>', ' ', ' ', 'v']\n"
     ]
    }
   ],
   "source": [
    "for i in range(len(policy)):\n",
    "    print(policy[i])"
   ]
  },
  {
   "cell_type": "code",
   "execution_count": null,
   "metadata": {},
   "outputs": [],
   "source": []
  },
  {
   "cell_type": "code",
   "execution_count": null,
   "metadata": {},
   "outputs": [],
   "source": []
  }
 ],
 "metadata": {
  "kernelspec": {
   "display_name": "Python 3",
   "language": "python",
   "name": "python3"
  },
  "language_info": {
   "codemirror_mode": {
    "name": "ipython",
    "version": 3
   },
   "file_extension": ".py",
   "mimetype": "text/x-python",
   "name": "python",
   "nbconvert_exporter": "python",
   "pygments_lexer": "ipython3",
   "version": "3.6.4"
  }
 },
 "nbformat": 4,
 "nbformat_minor": 2
}
