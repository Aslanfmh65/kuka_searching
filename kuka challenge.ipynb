{
 "cells": [
  {
   "cell_type": "code",
   "execution_count": 4,
   "metadata": {},
   "outputs": [],
   "source": [
    "import numpy as np\n",
    "import random"
   ]
  },
  {
   "cell_type": "code",
   "execution_count": 5,
   "metadata": {},
   "outputs": [],
   "source": [
    "grid = [[1, 1, 1, 1, 1, 1, 1, 1, 1, 1, 1, 1, 1, 1, 1, 1],\n",
    "        [1, 0, 0, 0, 0, 0, 0, 0, 0, 0, 0, 0, 0, 0, 0, 1],\n",
    "        [1, 0, 1, 1, 1, 1, 1, 1, 1, 1, 1, 1, 0, 1, 0, 1],\n",
    "        [1, 0, 0, 0, 0, 0, 0, 0, 0, 1, 0, 0, 0, 1, 0, 1],\n",
    "        [1, 0, 1, 0, 1, 1, 1, 0, 0, 0, 0, 1, 0, 1, 0, 1],\n",
    "        [1, 0, 1, 0, 0, 0, 0, 1, 0, 1, 0, 0, 0, 1, 0, 1],\n",
    "        [1, 0, 1, 0, 0, 0, 0, 0, 0, 0, 0, 1, 0, 0, 0, 1],\n",
    "        [1, 0, 0, 0, 1, 1, 1, 0, 1, 1, 0, 1, 0, 1, 0, 1],\n",
    "        [1, 0, 1, 0, 0, 0, 0, 0, 0, 0, 0, 0, 0, 0, 0, 1],\n",
    "        [1, 0, 1, 0, 1, 1, 0, 1, 1, 1, 1, 1, 1, 1, 0, 1],\n",
    "        [1, 0, 0, 0, 0, 0, 0, 0, 0, 0, 0, 0, 0, 0, 0, 1],\n",
    "        [1, 1, 1, 1, 1, 1, 1, 1, 1, 1, 1, 1, 1, 1, 1, 1]]"
   ]
  },
  {
   "cell_type": "code",
   "execution_count": 6,
   "metadata": {},
   "outputs": [],
   "source": [
    "all_zero = []\n",
    "all_one = []\n",
    "\n",
    "for x in range(len(grid)):\n",
    "    for y in range(len(grid[0])):\n",
    "        if grid[x][y] == 1:\n",
    "            all_one.append([x, y])\n",
    "        else:\n",
    "            all_zero.append([x, y])"
   ]
  },
  {
   "cell_type": "code",
   "execution_count": 7,
   "metadata": {},
   "outputs": [],
   "source": [
    "# init = random.choice(all_zero)\n",
    "# goal = random.choice(all_zero)\n",
    "\n",
    "goal = [3, 11]\n",
    "init = [10, 8]\n",
    "\n",
    "assert init != goal"
   ]
  },
  {
   "cell_type": "code",
   "execution_count": 8,
   "metadata": {},
   "outputs": [],
   "source": [
    "closed = [[0 for row in range(len(grid[0]))] for col in range(len(grid))]\n",
    "heuristic = [['*' for row in range(len(grid[0]))] for col in range(len(grid))]\n",
    "action = [[-1 for row in range(len(grid[0]))] for col in range(len(grid))]\n",
    "closed[init[0]][init[1]] = 'S'\n",
    "closed[goal[0]][goal[1]] = 'E'"
   ]
  },
  {
   "cell_type": "code",
   "execution_count": 9,
   "metadata": {},
   "outputs": [],
   "source": [
    "delta = [[-1, 0 ], # go up\n",
    "         [ 0, -1], # go left\n",
    "         [ 1, 0 ], # go down\n",
    "         [ 0, 1 ]] # go right\n",
    "\n",
    "delta_name = ['^', '<', 'v', '>']"
   ]
  },
  {
   "cell_type": "code",
   "execution_count": 10,
   "metadata": {},
   "outputs": [],
   "source": [
    "x = goal[0]\n",
    "y = goal[1]\n",
    "heuristic[x][y] = 0\n",
    "edge = [[x, y]]\n",
    "z = []\n",
    "\n",
    "for see in range(2):\n",
    "    for point in edge:\n",
    "        x = point[0]\n",
    "        y = point[1]\n",
    "        for i in range(len(delta)):\n",
    "            x2 = x + delta[i][0]\n",
    "            y2 = y + delta[i][1]\n",
    "    \n",
    "            if (x2 >= 0) and (x2 < len(grid)) and (y2 >= 0) and (y2 < len(grid[0])) and heuristic[x2][y2] == '*':\n",
    "                heuristic[x2][y2] = heuristic[x][y] + 1 + np.sqrt((x2-x)**2+(y2-y)**2)\n",
    "                z.append([x2, y2])\n",
    "#                 print('See: {}. Point: {}. Move: {}.'.format(see, point, i))\n",
    "#                 print(edge)\n",
    "                \n",
    "    edge = []\n",
    "    edge = z\n"
   ]
  },
  {
   "cell_type": "code",
   "execution_count": 11,
   "metadata": {},
   "outputs": [],
   "source": [
    "# for i in range(len(heuristic)):\n",
    "#     print(heuristic[i])"
   ]
  },
  {
   "cell_type": "code",
   "execution_count": 12,
   "metadata": {},
   "outputs": [],
   "source": [
    "g = 0\n",
    "cost = 1\n",
    "open_ = [[g, init[0], init[1]]]\n",
    "\n",
    "found = False\n",
    "resign = False\n",
    "\n",
    "while not found and not resign:\n",
    "    if len(open_) == 0:\n",
    "        resign = True\n",
    "    else:\n",
    "        open_.sort()\n",
    "        open_.reverse()\n",
    "        next_ = open_.pop()\n",
    "        \n",
    "        g = next_[0]\n",
    "        x = next_[1]\n",
    "        y = next_[2]\n",
    "        \n",
    "        if x == goal[0] and y == goal[1]:\n",
    "            found = True\n",
    "        else:\n",
    "            f = {}\n",
    "            open_select = {}\n",
    "            \n",
    "            for i in range(len(delta)):\n",
    "                x2 = x + delta[i][0]\n",
    "                y2 = y + delta[i][1]\n",
    "                \n",
    "                if (x2 >= 0) and (x2 < len(grid)) and (y2 >= 0) and (y2 < len(grid[0])):\n",
    "                    if closed[x2][y2] == 0 and grid[x2][y2] == 0:\n",
    "                        g2 = g + cost\n",
    "                        f[i] = g2 + heuristic[x2][y2]\n",
    "                        open_select[i] = [g2, x2, y2]\n",
    "            \n",
    "            if len(f) == 0:\n",
    "                continue\n",
    "            else:\n",
    "                ii = min(f, key=f.get)\n",
    "                open_.append(open_select[ii])\n",
    "                x2 = open_select[ii][1]\n",
    "                y2 = open_select[ii][2]\n",
    "                closed[x2][y2] = 1\n",
    "                action[x2][y2] = ii\n",
    "                \n",
    "                previous_move = ii"
   ]
  },
  {
   "cell_type": "code",
   "execution_count": 13,
   "metadata": {},
   "outputs": [
    {
     "name": "stdout",
     "output_type": "stream",
     "text": [
      "['X', 'X', 'X', 'X', 'X', 'X', 'X', 'X', 'X', 'X', 'X', 'X', 'X', 'X', 'X', 'X']\n",
      "['X', '<', '<', '<', '<', '<', '<', '<', '<', '<', '<', '<', '<', '<', '^', 'X']\n",
      "['X', 'v', 'X', 'X', 'X', 'X', 'X', 'X', 'X', 'X', 'X', 'X', ' ', 'X', '^', 'X']\n",
      "['X', 'v', '>', '>', '>', '>', '>', '>', '>', 'X', '^', 'E', ' ', 'X', '^', 'X']\n",
      "['X', ' ', 'X', ' ', 'X', 'X', 'X', ' ', 'v', '>', '>', 'X', ' ', 'X', '^', 'X']\n",
      "['X', ' ', 'X', ' ', ' ', ' ', ' ', 'X', ' ', 'X', ' ', ' ', ' ', 'X', '^', 'X']\n",
      "['X', ' ', 'X', ' ', ' ', ' ', ' ', ' ', ' ', ' ', ' ', 'X', ' ', ' ', '^', 'X']\n",
      "['X', ' ', ' ', ' ', 'X', 'X', 'X', ' ', 'X', 'X', ' ', 'X', ' ', 'X', '^', 'X']\n",
      "['X', ' ', 'X', ' ', ' ', ' ', ' ', ' ', ' ', ' ', ' ', ' ', ' ', ' ', '^', 'X']\n",
      "['X', ' ', 'X', ' ', 'X', 'X', ' ', 'X', 'X', 'X', 'X', 'X', 'X', 'X', '^', 'X']\n",
      "['X', ' ', ' ', ' ', ' ', ' ', ' ', ' ', 'S', '>', '>', '>', '>', '>', '>', 'X']\n",
      "['X', 'X', 'X', 'X', 'X', 'X', 'X', 'X', 'X', 'X', 'X', 'X', 'X', 'X', 'X', 'X']\n"
     ]
    }
   ],
   "source": [
    "policy = [[' ' for row in range(len(grid[0]))] for col in range(len(grid))]\n",
    "\n",
    "policy[init[0]][init[1]] = 'S'\n",
    "policy[goal[0]][goal[1]] = 'E'\n",
    "\n",
    "for i in range(len(grid)):\n",
    "    for ii in range(len(grid[0])):\n",
    "        if grid[i][ii] == 1:\n",
    "            policy[i][ii] = 'X'\n",
    "        move = action[i][ii]\n",
    "        if move != -1:\n",
    "            policy[i][ii] = delta_name[move]\n",
    "            \n",
    "for i in range(len(policy)):\n",
    "    print(policy[i])"
   ]
  },
  {
   "cell_type": "code",
   "execution_count": 178,
   "metadata": {},
   "outputs": [
    {
     "data": {
      "text/plain": [
       "[10, 10]"
      ]
     },
     "execution_count": 178,
     "metadata": {},
     "output_type": "execute_result"
    }
   ],
   "source": [
    "init"
   ]
  },
  {
   "cell_type": "code",
   "execution_count": 179,
   "metadata": {},
   "outputs": [
    {
     "data": {
      "text/plain": [
       "[4, 9]"
      ]
     },
     "execution_count": 179,
     "metadata": {},
     "output_type": "execute_result"
    }
   ],
   "source": [
    "goal"
   ]
  },
  {
   "cell_type": "code",
   "execution_count": null,
   "metadata": {},
   "outputs": [],
   "source": [
    "change = True\n",
    "while change:\n",
    "    change = False\n",
    "    # go through all grid cells and calculate values\n",
    "    for x in range(len(grid)):\n",
    "        for y in range(len(grid[0])):\n",
    "            for orientation in range(4):  # orientation = 0, 1, 2, 3\n",
    "                if goal[0] == x and goal[1] == y:  # if you find the goal location\n",
    "                    if value[orientation][x][y] > 0:\n",
    "                        change = True\n",
    "                        value[orientation][x][y] = 0\n",
    "                        policy[orientation][x][y] = '*'  # mark the end location\n",
    "                elif grid[x][y] == 0:  # if grid cell is navigable \n",
    "                    # calculate the three ways to propagate value\n",
    "                    for i in range(3):  # i = 0, 1, 2, loop all three actions\n",
    "                        o2 = (orientation + action[i]) % 4  \n",
    "                        # orientaton + (right, straight, left) % 4 = 0, 1, 2, 3\n",
    "                        # -1 % 4 = 3, right\n",
    "                        # 0 % 4 = 0, up\n",
    "                        # 1 % 4 = 1, left\n",
    "                        # 2 % 4 = 2, down\n",
    "                        # 3 % 4 = 3, right\n",
    "                        x2 = x + forward[o2][0]\n",
    "                        y2 = y + forward[o2][1]\n",
    "                        \n",
    "                        if x2 >= 0 and x2 < len(grid) and y2 >= 0 and y2 < len(grid[0]) and grid[x2][y2] == 0:\n",
    "                            v2 = value[o2][x2][y2] + cost[i]\n",
    "                            if v2 < value[orientation][x][y]:\n",
    "                                value[orientation][x][y] = v2\n",
    "                                policy[orientation][x][y] = action_name[i]\n",
    "                                change = True"
   ]
  }
 ],
 "metadata": {
  "kernelspec": {
   "display_name": "Python 3",
   "language": "python",
   "name": "python3"
  },
  "language_info": {
   "codemirror_mode": {
    "name": "ipython",
    "version": 3
   },
   "file_extension": ".py",
   "mimetype": "text/x-python",
   "name": "python",
   "nbconvert_exporter": "python",
   "pygments_lexer": "ipython3",
   "version": "3.6.4"
  }
 },
 "nbformat": 4,
 "nbformat_minor": 2
}
