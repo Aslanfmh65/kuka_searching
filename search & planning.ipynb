{
 "cells": [
  {
   "cell_type": "code",
   "execution_count": 1,
   "metadata": {},
   "outputs": [],
   "source": [
    "grid = [[0, 0, 1, 0, 0, 0],\n",
    "        [0, 0, 1, 0, 0, 0],\n",
    "        [0, 0, 1, 0, 1, 0],\n",
    "        [0, 0, 0, 0, 1, 0],\n",
    "        [0, 0, 1, 0, 1, 0]]"
   ]
  },
  {
   "cell_type": "code",
   "execution_count": 2,
   "metadata": {},
   "outputs": [],
   "source": [
    "init = [0, 0]\n",
    "goal = [len(grid)-1, len(grid[0])-1]  # [4, 5]\n",
    "cost = 1"
   ]
  },
  {
   "cell_type": "code",
   "execution_count": 3,
   "metadata": {},
   "outputs": [],
   "source": [
    "delta = [[-1, 0],  # go up\n",
    "         [0, -1],  # go left\n",
    "         [1, 0],  # go down\n",
    "         [0, 1]]  # go right\n",
    "\n",
    "delta_name = ['^', '<', 'v', '>']"
   ]
  },
  {
   "cell_type": "code",
   "execution_count": 4,
   "metadata": {},
   "outputs": [],
   "source": [
    "closed = [[0 for row in range(len(grid[0]))] for col in range(len(grid))]\n",
    "closed[init[0]][init[1]] = 1\n",
    "expand = [[-1 for row in range(len(grid[0]))] for col in range(len(grid))]\n",
    "action = [[-1 for row in range(len(grid[0]))] for col in range(len(grid))]\n",
    "action_test = []"
   ]
  },
  {
   "cell_type": "code",
   "execution_count": 5,
   "metadata": {},
   "outputs": [],
   "source": [
    "x = init[0]  # x = 0\n",
    "y = init[1]  # y = 0\n",
    "g = 0"
   ]
  },
  {
   "cell_type": "code",
   "execution_count": 6,
   "metadata": {},
   "outputs": [],
   "source": [
    "open_ = [[g, x, y]]"
   ]
  },
  {
   "cell_type": "code",
   "execution_count": 7,
   "metadata": {},
   "outputs": [],
   "source": [
    "found = False\n",
    "resign = False"
   ]
  },
  {
   "cell_type": "code",
   "execution_count": 8,
   "metadata": {},
   "outputs": [
    {
     "name": "stdout",
     "output_type": "stream",
     "text": [
      "\n",
      "\n",
      "\n",
      "\n",
      "\n",
      "\n",
      "\n",
      "\n",
      "\n",
      "\n",
      "\n",
      "\n",
      "\n",
      "\n",
      "\n",
      "\n",
      "\n",
      "\n",
      "\n",
      "\n",
      "\n",
      "\n",
      "\n",
      "\n",
      "\n",
      "\n",
      "\n",
      "\n",
      "\n",
      "\n",
      "\n",
      "\n",
      "\n",
      "\n",
      "\n",
      "\n",
      "\n",
      "\n",
      "\n",
      "\n",
      "\n",
      "\n",
      "\n",
      "\n",
      "\n",
      "\n",
      "\n",
      "\n",
      "\n",
      "\n",
      "\n",
      "\n",
      "\n",
      "\n",
      "\n",
      "\n",
      "\n",
      "\n",
      "\n",
      "\n",
      "\n",
      "\n",
      "\n",
      "\n",
      "\n",
      "\n",
      "\n",
      "\n",
      "\n",
      "\n",
      "\n",
      "\n",
      "\n",
      "\n",
      "\n",
      "\n",
      "\n",
      "\n",
      "\n",
      "\n",
      "\n",
      "\n",
      "\n",
      "\n",
      "\n",
      "\n",
      "\n",
      "\n"
     ]
    }
   ],
   "source": [
    "while not found and not resign:\n",
    "    if len(open_) == 0:\n",
    "        resign = True\n",
    "    else:\n",
    "        open_.sort()  # sort the value from low to high\n",
    "        open_.reverse()  # reverse the value from high to low\n",
    "        next_ = open_.pop()  # return the last value in the list and remove it\n",
    "\n",
    "        g = next_[0]\n",
    "        x = next_[1]\n",
    "        y = next_[2]\n",
    "\n",
    "        if x == goal[0] and y == goal[1]:  # check if the goal has been reached\n",
    "            found = True\n",
    "        else:\n",
    "            for i in range(len(delta)):  # i = 0, 1, 2, 3\n",
    "                print()\n",
    "                x2 = x + delta[i][0]  # current x position + optimal x movement\n",
    "                y2 = y + delta[i][1]  # current y position + optimal y movement\n",
    "\n",
    "                if (x2 >= 0) and (x2 < len(grid)) and (y2 >= 0) and (y2 < len(grid[0])):\n",
    "                    \n",
    "                    if closed[x2][y2] == 0 and grid[x2][y2] == 0:\n",
    "                        g2 = g + cost  # accumulate the cost\n",
    "                        open_.append([g2, x2, y2])\n",
    "                        closed[x2][y2] = 1\n",
    "                        action[x2][y2] = i  # i = 0, 1, 2, 3, which corresponds to move direction\n",
    "#                         print('Move from {} to {}, cumulative cost is {}'.format([x, y], [x2, y2], g2))\n",
    "#                         print(action)"
   ]
  },
  {
   "cell_type": "code",
   "execution_count": 9,
   "metadata": {},
   "outputs": [
    {
     "name": "stdout",
     "output_type": "stream",
     "text": [
      "[[-1, 3, -1, 0, 3, 3], [2, 2, -1, 0, 3, 3], [2, 2, -1, 0, -1, 2], [2, 2, 3, 3, -1, 2], [2, 2, -1, 2, -1, 2]]\n"
     ]
    }
   ],
   "source": [
    "print(action)"
   ]
  },
  {
   "cell_type": "code",
   "execution_count": 10,
   "metadata": {},
   "outputs": [],
   "source": [
    "policy = [[' ' for row in range(len(grid[0]))] for col in range(len(grid))]\n",
    "x = goal[0]\n",
    "y = goal[1]\n",
    "\n",
    "policy[x][y] = '*'"
   ]
  },
  {
   "cell_type": "code",
   "execution_count": 11,
   "metadata": {},
   "outputs": [],
   "source": [
    "while x != init[0] and y != init[1]:  # means when current location is not start point\n",
    "    x2 = x - delta[action[x][y]][0]\n",
    "    y2 = y - delta[action[x][y]][1]\n",
    "    \n",
    "    policy[x2][y2] = delta_name[action[x2][y2]]\n",
    "    \n",
    "    x = x2\n",
    "    y = y2"
   ]
  },
  {
   "cell_type": "code",
   "execution_count": 12,
   "metadata": {},
   "outputs": [
    {
     "name": "stdout",
     "output_type": "stream",
     "text": [
      "[' ', '>', ' ', ' ', ' ', ' ']\n",
      "[' ', 'v', ' ', '^', '>', '>']\n",
      "[' ', 'v', ' ', '^', ' ', 'v']\n",
      "[' ', 'v', '>', '>', ' ', 'v']\n",
      "[' ', ' ', ' ', ' ', ' ', '*']\n"
     ]
    }
   ],
   "source": [
    "for i in range(len(policy)):\n",
    "    print(policy[i])"
   ]
  },
  {
   "cell_type": "code",
   "execution_count": null,
   "metadata": {},
   "outputs": [],
   "source": []
  }
 ],
 "metadata": {
  "kernelspec": {
   "display_name": "Python 3",
   "language": "python",
   "name": "python3"
  },
  "language_info": {
   "codemirror_mode": {
    "name": "ipython",
    "version": 3
   },
   "file_extension": ".py",
   "mimetype": "text/x-python",
   "name": "python",
   "nbconvert_exporter": "python",
   "pygments_lexer": "ipython3",
   "version": "3.6.4"
  }
 },
 "nbformat": 4,
 "nbformat_minor": 2
}
